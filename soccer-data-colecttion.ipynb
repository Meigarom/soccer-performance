{
 "cells": [
  {
   "cell_type": "markdown",
   "metadata": {},
   "source": [
    "# Import Libraries"
   ]
  },
  {
   "cell_type": "code",
   "execution_count": 95,
   "metadata": {
    "ExecuteTime": {
     "end_time": "2023-11-26T13:46:56.206496Z",
     "start_time": "2023-11-26T13:46:46.229510Z"
    }
   },
   "outputs": [],
   "source": [
    "import pandas as pd\n",
    "import seaborn as sns\n",
    "import re\n",
    "import requests\n",
    "from bs4 import BeautifulSoup"
   ]
  },
  {
   "cell_type": "markdown",
   "metadata": {},
   "source": [
    "## Coleta dos Dados"
   ]
  },
  {
   "cell_type": "code",
   "execution_count": 115,
   "metadata": {
    "ExecuteTime": {
     "end_time": "2023-11-26T16:20:07.497485Z",
     "start_time": "2023-11-26T16:19:51.632471Z"
    }
   },
   "outputs": [
    {
     "name": "stdout",
     "output_type": "stream",
     "text": [
      "https://www.ogol.com.br/edition.php?jornada_in=1&id_edicao=173412&fase=175101\n",
      "Solicitação bem-sucedida!\n",
      "https://www.ogol.com.br/edition.php?jornada_in=2&id_edicao=173412&fase=175101\n",
      "Solicitação bem-sucedida!\n",
      "https://www.ogol.com.br/edition.php?jornada_in=3&id_edicao=173412&fase=175101\n",
      "Solicitação bem-sucedida!\n",
      "https://www.ogol.com.br/edition.php?jornada_in=4&id_edicao=173412&fase=175101\n",
      "Solicitação bem-sucedida!\n",
      "https://www.ogol.com.br/edition.php?jornada_in=5&id_edicao=173412&fase=175101\n",
      "Solicitação bem-sucedida!\n",
      "https://www.ogol.com.br/edition.php?jornada_in=6&id_edicao=173412&fase=175101\n",
      "Solicitação bem-sucedida!\n"
     ]
    }
   ],
   "source": [
    "# Páginas de coleta de dados\n",
    "headers = { 'User-Agent': 'Mozilla/5.0 (Windows NT 10.0; Win64; x64) AppleWebKit/537.36 (KHTML, like Gecko) Chrome/102.0.0.0 Safari/537.36' }\n",
    "\n",
    "pg = 6 \n",
    "html_content = []\n",
    "for i in range( 1, pg+1 ):\n",
    "    url = 'https://www.ogol.com.br/edition.php?jornada_in={}&id_edicao=173412&fase=175101'.format( i )\n",
    "    #url = 'https://www.ogol.com.br/edition.php?jornada_in={}&id_edicao=140879&fase=135852'.format( i )\n",
    "    print( url )\n",
    "    response = requests.get(url, headers=headers)\n",
    "\n",
    "    # Verifique se a solicitação foi bem-sucedida\n",
    "    if response.status_code == 200:\n",
    "        print(\"Solicitação bem-sucedida!\")\n",
    "        html_content.append( response.text )\n",
    "    else:\n",
    "        print(\"Falha na solicitação. Status code:\", response.status_code)"
   ]
  },
  {
   "cell_type": "markdown",
   "metadata": {
    "ExecuteTime": {
     "end_time": "2023-11-25T22:03:43.520620Z",
     "start_time": "2023-11-25T22:03:43.515300Z"
    }
   },
   "source": [
    "## Extração dos Dados"
   ]
  },
  {
   "cell_type": "code",
   "execution_count": 116,
   "metadata": {
    "ExecuteTime": {
     "end_time": "2023-11-26T16:20:16.079357Z",
     "start_time": "2023-11-26T16:20:13.403621Z"
    }
   },
   "outputs": [
    {
     "name": "stdout",
     "output_type": "stream",
     "text": [
      "Extraindo dados da rodada: 1 - Ano 2026\n",
      "Div encontrada\n",
      "Extraindo dados da rodada: 2 - Ano 2026\n",
      "Div encontrada\n",
      "Extraindo dados da rodada: 3 - Ano 2026\n",
      "Div encontrada\n",
      "Extraindo dados da rodada: 4 - Ano 2026\n",
      "Div encontrada\n",
      "Extraindo dados da rodada: 5 - Ano 2026\n",
      "Div encontrada\n",
      "Extraindo dados da rodada: 6 - Ano 2026\n",
      "Div encontrada\n",
      "Dados salvos - DONE\n"
     ]
    }
   ],
   "source": [
    "df_classificacao = pd.DataFrame()\n",
    "for i in range( 0, pg ):\n",
    "    print( 'Extraindo dados da rodada: {} - Ano 2026'.format( i+1 ) )\n",
    "    soup = BeautifulSoup(html_content[i], 'html.parser')\n",
    "\n",
    "    # Encontrando a div com a classe 'edition_table'\n",
    "    edition_table_div = soup.find('div', id='edition_table')\n",
    "\n",
    "    # Verificando se a div foi encontrada\n",
    "    if edition_table_div:\n",
    "        print( \"Div encontrada\" )\n",
    "        # Encontrando a tabela dentro da div\n",
    "        table = edition_table_div.find('table')\n",
    "\n",
    "        # Convertendo a tabela HTML para DataFrame\n",
    "        df = pd.read_html(str(table))[0]\n",
    "\n",
    "        # Renomeando as colunas\n",
    "        df1 = df.drop( ['Unnamed: 11'], axis=1 ).rename( columns={'Unnamed: 0': 'Ano', \n",
    "                                                                  'Unnamed: 1': 'Rodada',\n",
    "                                                                  'Unnamed: 2': 'Nome'} )\n",
    "        # Atribuindo o Ano e Rodada\n",
    "        df1['Ano'] = 2026\n",
    "        df1['Rodada'] = i+1\n",
    "        \n",
    "        # Unindo as classificacoes das rodadas\n",
    "        df_classificacao = df_classificacao.append( df1 )\n",
    "    else:\n",
    "        print(\"Div 'edition_table' não encontrada\")\n",
    "        break\n",
    "        \n",
    "# Salvando os dados\n",
    "df_classificacao.to_csv( 'df_eliminatorias_2026.csv', index=0 )\n",
    "\n",
    "print( 'Dados salvos - DONE' )"
   ]
  },
  {
   "cell_type": "markdown",
   "metadata": {
    "ExecuteTime": {
     "end_time": "2023-11-25T22:03:43.520620Z",
     "start_time": "2023-11-25T22:03:43.515300Z"
    }
   },
   "source": [
    "## Analisando os Dados"
   ]
  },
  {
   "cell_type": "code",
   "execution_count": 128,
   "metadata": {
    "ExecuteTime": {
     "end_time": "2023-11-26T16:24:10.968059Z",
     "start_time": "2023-11-26T16:24:10.952660Z"
    }
   },
   "outputs": [],
   "source": [
    "df2022 = pd.read_csv( 'df_eliminatorias_2022.csv' )\n",
    "df2026 = pd.read_csv( 'df_eliminatorias_2026.csv' )"
   ]
  },
  {
   "cell_type": "code",
   "execution_count": 129,
   "metadata": {
    "ExecuteTime": {
     "end_time": "2023-11-26T16:24:20.945443Z",
     "start_time": "2023-11-26T16:24:20.928392Z"
    }
   },
   "outputs": [],
   "source": [
    "df_history = pd.concat( [df2022, df2026] ).reset_index( drop=True )\n",
    "df_history.to_csv( 'df_eliminatorias_history.csv', index=0 )"
   ]
  },
  {
   "cell_type": "code",
   "execution_count": 127,
   "metadata": {
    "ExecuteTime": {
     "end_time": "2023-11-26T16:22:55.178242Z",
     "start_time": "2023-11-26T16:22:55.131679Z"
    }
   },
   "outputs": [
    {
     "data": {
      "text/html": [
       "<div>\n",
       "<style scoped>\n",
       "    .dataframe tbody tr th:only-of-type {\n",
       "        vertical-align: middle;\n",
       "    }\n",
       "\n",
       "    .dataframe tbody tr th {\n",
       "        vertical-align: top;\n",
       "    }\n",
       "\n",
       "    .dataframe thead th {\n",
       "        text-align: right;\n",
       "    }\n",
       "</style>\n",
       "<table border=\"1\" class=\"dataframe\">\n",
       "  <thead>\n",
       "    <tr style=\"text-align: right;\">\n",
       "      <th></th>\n",
       "      <th>Ano</th>\n",
       "      <th>Rodada</th>\n",
       "      <th>Nome</th>\n",
       "      <th>P</th>\n",
       "      <th>J</th>\n",
       "      <th>V</th>\n",
       "      <th>E</th>\n",
       "      <th>D</th>\n",
       "      <th>GM</th>\n",
       "      <th>GC</th>\n",
       "      <th>SG</th>\n",
       "    </tr>\n",
       "  </thead>\n",
       "  <tbody>\n",
       "    <tr>\n",
       "      <th>0</th>\n",
       "      <td>2022</td>\n",
       "      <td>1</td>\n",
       "      <td>Brasil</td>\n",
       "      <td>3</td>\n",
       "      <td>1</td>\n",
       "      <td>1</td>\n",
       "      <td>0</td>\n",
       "      <td>0</td>\n",
       "      <td>5</td>\n",
       "      <td>0</td>\n",
       "      <td>5</td>\n",
       "    </tr>\n",
       "    <tr>\n",
       "      <th>1</th>\n",
       "      <td>2022</td>\n",
       "      <td>1</td>\n",
       "      <td>Colômbia</td>\n",
       "      <td>3</td>\n",
       "      <td>1</td>\n",
       "      <td>1</td>\n",
       "      <td>0</td>\n",
       "      <td>0</td>\n",
       "      <td>3</td>\n",
       "      <td>0</td>\n",
       "      <td>3</td>\n",
       "    </tr>\n",
       "    <tr>\n",
       "      <th>2</th>\n",
       "      <td>2022</td>\n",
       "      <td>1</td>\n",
       "      <td>Uruguai</td>\n",
       "      <td>3</td>\n",
       "      <td>1</td>\n",
       "      <td>1</td>\n",
       "      <td>0</td>\n",
       "      <td>0</td>\n",
       "      <td>2</td>\n",
       "      <td>1</td>\n",
       "      <td>1</td>\n",
       "    </tr>\n",
       "    <tr>\n",
       "      <th>3</th>\n",
       "      <td>2022</td>\n",
       "      <td>1</td>\n",
       "      <td>Argentina</td>\n",
       "      <td>3</td>\n",
       "      <td>1</td>\n",
       "      <td>1</td>\n",
       "      <td>0</td>\n",
       "      <td>0</td>\n",
       "      <td>1</td>\n",
       "      <td>0</td>\n",
       "      <td>1</td>\n",
       "    </tr>\n",
       "    <tr>\n",
       "      <th>4</th>\n",
       "      <td>2022</td>\n",
       "      <td>1</td>\n",
       "      <td>Paraguai</td>\n",
       "      <td>1</td>\n",
       "      <td>1</td>\n",
       "      <td>0</td>\n",
       "      <td>1</td>\n",
       "      <td>0</td>\n",
       "      <td>2</td>\n",
       "      <td>2</td>\n",
       "      <td>0</td>\n",
       "    </tr>\n",
       "    <tr>\n",
       "      <th>...</th>\n",
       "      <td>...</td>\n",
       "      <td>...</td>\n",
       "      <td>...</td>\n",
       "      <td>...</td>\n",
       "      <td>...</td>\n",
       "      <td>...</td>\n",
       "      <td>...</td>\n",
       "      <td>...</td>\n",
       "      <td>...</td>\n",
       "      <td>...</td>\n",
       "      <td>...</td>\n",
       "    </tr>\n",
       "    <tr>\n",
       "      <th>235</th>\n",
       "      <td>2026</td>\n",
       "      <td>6</td>\n",
       "      <td>Brasil</td>\n",
       "      <td>7</td>\n",
       "      <td>6</td>\n",
       "      <td>2</td>\n",
       "      <td>1</td>\n",
       "      <td>3</td>\n",
       "      <td>8</td>\n",
       "      <td>7</td>\n",
       "      <td>1</td>\n",
       "    </tr>\n",
       "    <tr>\n",
       "      <th>236</th>\n",
       "      <td>2026</td>\n",
       "      <td>6</td>\n",
       "      <td>Paraguai</td>\n",
       "      <td>5</td>\n",
       "      <td>6</td>\n",
       "      <td>1</td>\n",
       "      <td>2</td>\n",
       "      <td>3</td>\n",
       "      <td>1</td>\n",
       "      <td>3</td>\n",
       "      <td>-2</td>\n",
       "    </tr>\n",
       "    <tr>\n",
       "      <th>237</th>\n",
       "      <td>2026</td>\n",
       "      <td>6</td>\n",
       "      <td>Chile</td>\n",
       "      <td>5</td>\n",
       "      <td>6</td>\n",
       "      <td>1</td>\n",
       "      <td>2</td>\n",
       "      <td>3</td>\n",
       "      <td>3</td>\n",
       "      <td>7</td>\n",
       "      <td>-4</td>\n",
       "    </tr>\n",
       "    <tr>\n",
       "      <th>238</th>\n",
       "      <td>2026</td>\n",
       "      <td>6</td>\n",
       "      <td>Bolívia</td>\n",
       "      <td>3</td>\n",
       "      <td>6</td>\n",
       "      <td>1</td>\n",
       "      <td>0</td>\n",
       "      <td>5</td>\n",
       "      <td>4</td>\n",
       "      <td>14</td>\n",
       "      <td>-10</td>\n",
       "    </tr>\n",
       "    <tr>\n",
       "      <th>239</th>\n",
       "      <td>2026</td>\n",
       "      <td>6</td>\n",
       "      <td>Peru</td>\n",
       "      <td>2</td>\n",
       "      <td>6</td>\n",
       "      <td>0</td>\n",
       "      <td>2</td>\n",
       "      <td>4</td>\n",
       "      <td>1</td>\n",
       "      <td>8</td>\n",
       "      <td>-7</td>\n",
       "    </tr>\n",
       "  </tbody>\n",
       "</table>\n",
       "<p>240 rows × 11 columns</p>\n",
       "</div>"
      ],
      "text/plain": [
       "      Ano  Rodada       Nome  P  J  V  E  D  GM  GC  SG\n",
       "0    2022       1     Brasil  3  1  1  0  0   5   0   5\n",
       "1    2022       1   Colômbia  3  1  1  0  0   3   0   3\n",
       "2    2022       1    Uruguai  3  1  1  0  0   2   1   1\n",
       "3    2022       1  Argentina  3  1  1  0  0   1   0   1\n",
       "4    2022       1   Paraguai  1  1  0  1  0   2   2   0\n",
       "..    ...     ...        ... .. .. .. .. ..  ..  ..  ..\n",
       "235  2026       6     Brasil  7  6  2  1  3   8   7   1\n",
       "236  2026       6   Paraguai  5  6  1  2  3   1   3  -2\n",
       "237  2026       6      Chile  5  6  1  2  3   3   7  -4\n",
       "238  2026       6    Bolívia  3  6  1  0  5   4  14 -10\n",
       "239  2026       6       Peru  2  6  0  2  4   1   8  -7\n",
       "\n",
       "[240 rows x 11 columns]"
      ]
     },
     "execution_count": 127,
     "metadata": {},
     "output_type": "execute_result"
    }
   ],
   "source": [
    "df_history"
   ]
  },
  {
   "cell_type": "code",
   "execution_count": null,
   "metadata": {},
   "outputs": [],
   "source": []
  }
 ],
 "metadata": {
  "kernelspec": {
   "display_name": "Python 3",
   "language": "python",
   "name": "python3"
  },
  "language_info": {
   "codemirror_mode": {
    "name": "ipython",
    "version": 3
   },
   "file_extension": ".py",
   "mimetype": "text/x-python",
   "name": "python",
   "nbconvert_exporter": "python",
   "pygments_lexer": "ipython3",
   "version": "3.8.0"
  }
 },
 "nbformat": 4,
 "nbformat_minor": 2
}
